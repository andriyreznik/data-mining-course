{
  "cells": [
    {
      "attachments": {},
      "cell_type": "markdown",
      "metadata": {},
      "source": [
        "**Тема**: Вибірка даних. <br>\n",
        "\n",
        " - Метод: Класичний СВ; <br>\n",
        " - Ознака (колонка табл. значень ): Walc (тижневе споживання алкоголю); <br>\n",
        " - Кількість виборок: 12; <br>\n",
        " - Об’єм вибірки n: 9%. <br>"
      ]
    },
    {
      "cell_type": "code",
      "execution_count": 1,
      "metadata": {
        "id": "BKsTA_ghMFua"
      },
      "outputs": [],
      "source": [
        "column_names = [\"Walc\"]\n",
        "m = 12\n",
        "n = 0.09"
      ]
    },
    {
      "cell_type": "code",
      "execution_count": 2,
      "metadata": {
        "id": "gFtrM6q5MBJo"
      },
      "outputs": [],
      "source": [
        "import math\n",
        "import random\n",
        "import timeit\n",
        "\n",
        "import pandas as pd"
      ]
    },
    {
      "attachments": {},
      "cell_type": "markdown",
      "metadata": {
        "id": "qK8RKb6SMU1c"
      },
      "source": [
        "Зчитуємо дані з csv файлу:"
      ]
    },
    {
      "cell_type": "code",
      "execution_count": 3,
      "metadata": {
        "id": "4obXJS3WMIpV"
      },
      "outputs": [],
      "source": [
        "df = pd.read_csv(\"sample_data/student-mat.csv\", usecols=column_names)\n",
        "\n",
        "\n",
        "N = len(df)\n",
        "\n",
        "# Заповнюємо пусті комірки середніми значенями, якщо такі є\n",
        "df = df.fillna(df.mean())"
      ]
    },
    {
      "attachments": {},
      "cell_type": "markdown",
      "metadata": {
        "id": "g9zv0vF9Mo06"
      },
      "source": [
        "Оголошуємо функцію систематичної вибірки:"
      ]
    },
    {
      "cell_type": "code",
      "execution_count": 4,
      "metadata": {
        "id": "5THdOhC7MmU6"
      },
      "outputs": [],
      "source": [
        "def systematic_sampling(df):\n",
        "    a = int(N / (N * n))\n",
        "    r = random.randint(1, a)\n",
        "\n",
        "    return df.iloc[r::a]"
      ]
    },
    {
      "attachments": {},
      "cell_type": "markdown",
      "metadata": {
        "id": "y0mw18RSMsgN"
      },
      "source": [
        "Вимірюємо швидкість роботи алгоритму:"
      ]
    },
    {
      "cell_type": "code",
      "execution_count": 5,
      "metadata": {
        "colab": {
          "base_uri": "https://localhost:8080/"
        },
        "id": "zlmtzUr-Mqrt",
        "outputId": "e16314c1-bedd-4a92-afb7-1303b99e9877"
      },
      "outputs": [
        {
          "data": {
            "text/plain": [
              "0.00026312400041206274"
            ]
          },
          "execution_count": 5,
          "metadata": {},
          "output_type": "execute_result"
        }
      ],
      "source": [
        "t = timeit.Timer(lambda: systematic_sampling(df)) \n",
        "t.timeit(1)"
      ]
    },
    {
      "attachments": {},
      "cell_type": "markdown",
      "metadata": {
        "id": "n-Th2iHxMwd0"
      },
      "source": [
        "Обчислюємо середнє значення ознаки всiєї генеральної сукупностi та середнє значення зроблених виборок:"
      ]
    },
    {
      "cell_type": "code",
      "execution_count": 6,
      "metadata": {
        "colab": {
          "base_uri": "https://localhost:8080/"
        },
        "id": "sRnpddqcMuNG",
        "outputId": "4d3659f5-8e15-4f82-f466-52f2e10cc934"
      },
      "outputs": [
        {
          "name": "stdout",
          "output_type": "stream",
          "text": [
            "X середне генеральне:  Walc    2.291139\n",
            "dtype: float64\n",
            "X середне групове:  Walc    2.291931\n",
            "dtype: float64\n"
          ]
        }
      ],
      "source": [
        "group_mean = [systematic_sampling(df).mean() for _ in range(m)]\n",
        "\n",
        "print(\"X середне генеральне: \", df.mean())\n",
        "print(\"X середне групове: \", sum(group_mean) / len(group_mean))"
      ]
    },
    {
      "attachments": {},
      "cell_type": "markdown",
      "metadata": {
        "id": "MNQwKjcDM1z6"
      },
      "source": [
        "Знаходимо міжгрупове стандартне вiдхилення цiєї ознаки:"
      ]
    },
    {
      "cell_type": "code",
      "execution_count": 7,
      "metadata": {
        "colab": {
          "base_uri": "https://localhost:8080/"
        },
        "id": "Xeggn7AhMyyX",
        "outputId": "bc28e9b6-4ef1-4f12-eec8-4844d94c548e"
      },
      "outputs": [
        {
          "name": "stdout",
          "output_type": "stream",
          "text": [
            "0.23750341084916057\n"
          ]
        }
      ],
      "source": [
        "sigma = math.sqrt(1 / m * sum([(group_mean[i] - df.mean())**2 for i in range(m)]))\n",
        "print(sigma)"
      ]
    }
  ],
  "metadata": {
    "colab": {
      "provenance": []
    },
    "kernelspec": {
      "display_name": "Python 3",
      "name": "python3"
    },
    "language_info": {
      "codemirror_mode": {
        "name": "ipython",
        "version": 3
      },
      "file_extension": ".py",
      "mimetype": "text/x-python",
      "name": "python",
      "nbconvert_exporter": "python",
      "pygments_lexer": "ipython3",
      "version": "3.9.13"
    }
  },
  "nbformat": 4,
  "nbformat_minor": 0
}
